{
 "cells": [
  {
   "cell_type": "markdown",
   "id": "f9120112-7312-4c00-abb0-12ca6572a12f",
   "metadata": {},
   "source": [
    "# 打乱训练集的代码"
   ]
  },
  {
   "cell_type": "code",
   "execution_count": 3,
   "id": "7fbf5473-42eb-4f44-a6d9-7a6c1276fb56",
   "metadata": {
    "execution": {
     "iopub.execute_input": "2024-12-30T03:59:44.752341Z",
     "iopub.status.busy": "2024-12-30T03:59:44.751920Z",
     "iopub.status.idle": "2024-12-30T04:00:54.270874Z",
     "shell.execute_reply": "2024-12-30T04:00:54.269929Z",
     "shell.execute_reply.started": "2024-12-30T03:59:44.752313Z"
    },
    "scrolled": true,
    "tags": []
   },
   "outputs": [],
   "source": [
    "import json\n",
    "import random\n",
    "\n",
    "#设置随机种子\n",
    "random.seed(0)\n",
    "with open('/root/paddlejob/workspace/env_run/data/msmarco-pass/repllama-train-tevatron_1.jsonl', 'w', encoding=\"utf-8\") as file:\n",
    "    #打开你的文件\n",
    "    with open('/root/paddlejob/workspace/env_run/data/msmarco-pass/repllama-train-tevatron.jsonl', \"r\", encoding=\"utf-8\") as f:\n",
    "        for line in f:\n",
    "            data = json.loads(line)\n",
    "            random.shuffle(data['positive_passages'])\n",
    "            random.shuffle(data['negative_passages'])\n",
    "            file.write(json.dumps(data)+\"\\n\")"
   ]
  },
  {
   "cell_type": "markdown",
   "id": "3f6a756f-f3aa-4cdd-8689-7eee318f6960",
   "metadata": {},
   "source": [
    "# 提取有答案的训练集代码"
   ]
  },
  {
   "cell_type": "code",
   "execution_count": null,
   "id": "7afd1ddf-1afb-4731-a611-7616957e2cf6",
   "metadata": {
    "scrolled": true
   },
   "outputs": [],
   "source": [
    "def get_answers():\n",
    "    id_answers = {}\n",
    "    with open(\"/root/paddlejob/workspace/env_run/output/train_final.jsonl\", \"r\", encoding=\"utf-8\") as file:\n",
    "        for line in file:\n",
    "            js = json.loads(line)\n",
    "            id_answers[js[\"query_id\"]] = js[\"answers\"][0]\n",
    "    return id_answers\n",
    "def get_passage_ids():\n",
    "    id_answers = get_answers()\n",
    "    id_passages = {}\n",
    "    id_query = {}\n",
    "    num = 0\n",
    "    num_1 = 0\n",
    "    with open(\"/root/paddlejob/workspace/env_run/data/msmarco-pass/repllama-train-tevatron-filter.jsonl\", \"w\", encoding=\"utf-8\") as file_w:\n",
    "        with open(\"/root/paddlejob/workspace/env_run/data/msmarco-pass/repllama-train-tevatron_1.jsonl\", \"r\", encoding=\"utf-8\") as file:\n",
    "            for line in file:\n",
    "                js = json.loads(line)\n",
    "                query_id = js[\"query_id\"]\n",
    "                if query_id not in id_answers:\n",
    "                    num += 1\n",
    "                    continue\n",
    "                else:\n",
    "                    num_1 += 1\n",
    "                    file_w.write(json.dumps(js)+\"\\n\")\n",
    "\n",
    "\n",
    "    print(num)\n",
    "    print(num_1)\n",
    "                \n",
    "get_passage_ids()"
   ]
  },
  {
   "cell_type": "code",
   "execution_count": 21,
   "id": "00591aef-c275-4613-9c32-3b22205e69c9",
   "metadata": {
    "execution": {
     "iopub.execute_input": "2024-12-29T05:33:18.875842Z",
     "iopub.status.busy": "2024-12-29T05:33:18.875578Z",
     "iopub.status.idle": "2024-12-29T05:33:25.550529Z",
     "shell.execute_reply": "2024-12-29T05:33:25.549870Z",
     "shell.execute_reply.started": "2024-12-29T05:33:18.875821Z"
    },
    "scrolled": true,
    "tags": []
   },
   "outputs": [],
   "source": [
    "import json\n",
    "import re\n",
    "with open(\"../Qwen-utility-selection-gt-answer-add_generation_prompt-final.jsonl\", \"w\", encoding=\"utf-8\") as file_w:\n",
    "    with open(\"../Qwen-utility-selection-gt-answer-add_generation_prompt.jsonl\", \"r\", encoding=\"utf-8\") as file_r:\n",
    "        for line in file_r:\n",
    "            js = json.loads(line)\n",
    "            numbers = re.findall(r'\\[(\\d+)\\]', js[\"utility_selection\"])\n",
    "            numbers = [int(number)-1 for number in numbers]\n",
    "            utility_scores = [0]*len(js[\"passages_ids\"])\n",
    "            for number in numbers:\n",
    "                if number >= len(utility_scores):\n",
    "                    continue\n",
    "                utility_scores[number]=1\n",
    "            js[\"utility_score\"] = utility_scores\n",
    "            file_w.write(json.dumps(js)+\"\\n\")\n",
    "        file_r.close()\n",
    "        "
   ]
  },
  {
   "cell_type": "code",
   "execution_count": null,
   "id": "e8163c66-be1a-489e-8b1e-0f9756f45f8a",
   "metadata": {
    "scrolled": true
   },
   "outputs": [],
   "source": [
    "import json\n",
    "import re\n",
    "id_scores = {}\n",
    "real_num = 0\n",
    "with open(\"../Qwen-relevance-selection-first-add_generation_prompt-relevance_utility-final.jsonl\", \"w\", encoding=\"utf-8\") as file_w:\n",
    "    with open(\"../test.jsonl\", \"r\", encoding=\"utf-8\") as file_r:\n",
    "        for line in file_r:\n",
    "            js = json.loads(line)\n",
    "            numbers = re.findall(r'\\[(\\d+)\\]', js[\"relevance_output\"])\n",
    "            numbers = [int(number)-1 for number in numbers]\n",
    "            utility_scores = [0]*len(js[\"passages_ids\"])\n",
    "            for number in numbers:\n",
    "                if number >= len(utility_scores):\n",
    "                    continue\n",
    "                utility_scores[number]=1\n",
    "            js[\"relevance_score\"] = utility_scores\n",
    "            id_scores[js[\"query_id\"]] = utility_scores\n",
    "            file_w.write(json.dumps(js)+\"\\n\")\n",
    "            real_num += 1\n",
    "        file_r.close()\n",
    "same_num = 0\n",
    "with open(\"../Qwen-relevance-selection-first-add_generation_prompt-final.jsonl\", \"r\", encoding=\"utf-8\") as file_r:\n",
    "    for line in file_r:\n",
    "        js = json.loads(line)\n",
    "        if js[\"query_id\"] in id_scores:\n",
    "            if id_scores[js[\"query_id\"]] == js[\"relevance_score\"]:\n",
    "                same_num+= 1\n",
    "                continue\n",
    "            # else:\n",
    "            #     print(id_scores[js[\"query_id\"]])\n",
    "            #     print(js[\"relevance_score\"])\n",
    "            #     print(\"---------------------------------------\")\n",
    "print(\"same: \", same_num)\n",
    "print(\"error_num: \", real_num-same_num)\n",
    "print(\"all_num: \", real_num)\n",
    "print(\"error_num ratio: \", 100*(real_num-same_num)/real_num)\n",
    "        "
   ]
  },
  {
   "cell_type": "markdown",
   "id": "9b36337f-c021-4141-a012-b4770e69a3da",
   "metadata": {},
   "source": [
    "# 统计relevance selection数量和召回的代码"
   ]
  },
  {
   "cell_type": "code",
   "execution_count": 16,
   "id": "533275c1-8e53-40d1-bf87-09db854bee49",
   "metadata": {
    "execution": {
     "iopub.execute_input": "2024-12-29T05:31:25.546890Z",
     "iopub.status.busy": "2024-12-29T05:31:25.546508Z",
     "iopub.status.idle": "2024-12-29T05:31:30.494346Z",
     "shell.execute_reply": "2024-12-29T05:31:30.493795Z",
     "shell.execute_reply.started": "2024-12-29T05:31:25.546864Z"
    },
    "scrolled": true
   },
   "outputs": [
    {
     "name": "stdout",
     "output_type": "stream",
     "text": [
      "postive recall:  0.9275244548448393\r\n",
      "avg length:  6.191068559104045\r\n",
      "null nums:  5844\r\n"
     ]
    },
    {
     "data": {
      "image/png": "[encoded data removed]",
      "text/plain": [
       "<Figure size 640x480 with 1 Axes>"
      ]
     },
     "metadata": {},
     "output_type": "display_data"
    }
   ],
   "source": [
    "import json \n",
    "file_r = open(\"../Qwen-relevance-label_add_generation_prompt.jsonl\", \"r\", encoding=\"utf-8\")\n",
    "recall = []\n",
    "nums = []\n",
    "for line in file_r:\n",
    "    js = json.loads(line)\n",
    "    relevance_score = js['relevance_score']\n",
    "    recall.append(1 if relevance_score[0] == 1 else 0)\n",
    "    nums.append(sum(relevance_score))\n",
    "\n",
    "print(\"postive recall: \", sum(recall)/len(recall))\n",
    "print(\"avg length: \", sum(nums)/len(nums))\n",
    "print(\"null nums: \", nums.count(0))\n",
    "import matplotlib.pyplot as plt\n",
    "\n",
    "plt.hist(nums, bins=max(nums)+1,  edgecolor='black')\n",
    "\n",
    "plt.title(\"Number Distribution\")\n",
    "plt.xlabel(\"Number\")\n",
    "plt.ylabel(\"Frequency\")\n",
    "plt.savefig(\"img/relevance_number_distribution.pdf\")\n",
    "plt.show()"
   ]
  },
  {
   "cell_type": "code",
   "execution_count": 22,
   "id": "e1b33a2f-95f1-4c16-a8fc-4d3cfcfcfa3a",
   "metadata": {
    "execution": {
     "iopub.execute_input": "2024-12-29T05:34:40.113111Z",
     "iopub.status.busy": "2024-12-29T05:34:40.112676Z",
     "iopub.status.idle": "2024-12-29T05:34:49.238733Z",
     "shell.execute_reply": "2024-12-29T05:34:49.238196Z",
     "shell.execute_reply.started": "2024-12-29T05:34:40.113083Z"
    },
    "scrolled": true,
    "tags": []
   },
   "outputs": [
    {
     "name": "stdout",
     "output_type": "stream",
     "text": [
      "postive recall:  0.8973879494904434\r\n",
      "avg length:  1.8074725462756434\r\n",
      "null nums:  31963\r\n"
     ]
    },
    {
     "data": {
      "image/png": "[encoded data removed]",
      "text/plain": [
       "<Figure size 640x480 with 1 Axes>"
      ]
     },
     "metadata": {},
     "output_type": "display_data"
    }
   ],
   "source": [
    "import json \n",
    "file = open(\"../Qwen-relevance-label_add_generation_prompt.jsonl\", \"r\", encoding=\"utf-8\")\n",
    "gt_label = {}\n",
    "for line in file:\n",
    "    js = json.loads(line)\n",
    "    gt_label[js[\"query_id\"]] = js[\"passages_ids\"]\n",
    "    \n",
    "file_r = open(\"../Qwen-utility-selection-gt-answer-add_generation_prompt-final.jsonl\", \"r\", encoding=\"utf-8\")\n",
    "recall = []\n",
    "nums = []\n",
    "for line in file_r:\n",
    "    js = json.loads(line)\n",
    "    utility_ids = []\n",
    "    flag = 0\n",
    "    for index, score in enumerate(js[\"utility_score\"]):\n",
    "        if score == 1 and js[\"passages_ids\"][index] == gt_label[js[\"query_id\"]][0]:\n",
    "            flag = 1\n",
    "    recall.append(flag)\n",
    "    \n",
    "    nums.append(sum(js[\"utility_score\"]))\n",
    "    \n",
    "\n",
    "print(\"postive recall: \", sum(recall)/len(recall))\n",
    "print(\"avg length: \", sum(nums)/len(nums))\n",
    "print(\"null nums: \", nums.count(0))\n",
    "import matplotlib.pyplot as plt\n",
    "\n",
    "plt.hist(nums, bins=max(nums)+1,  edgecolor='black')\n",
    "plt.title(\"Number Distribution\")\n",
    "plt.xlabel(\"Number\")\n",
    "plt.ylabel(\"Frequency\")\n",
    "plt.savefig(\"img/utility_gt_answer_number_distribution.pdf\")\n",
    "plt.show()"
   ]
  },
  {
   "cell_type": "code",
   "execution_count": 23,
   "id": "d9a52955-6090-4438-932e-6fee618989b8",
   "metadata": {
    "execution": {
     "iopub.execute_input": "2024-12-29T05:35:21.873587Z",
     "iopub.status.busy": "2024-12-29T05:35:21.873239Z",
     "iopub.status.idle": "2024-12-29T05:35:31.283214Z",
     "shell.execute_reply": "2024-12-29T05:35:31.282668Z",
     "shell.execute_reply.started": "2024-12-29T05:35:21.873561Z"
    },
    "scrolled": true,
    "tags": []
   },
   "outputs": [
    {
     "name": "stdout",
     "output_type": "stream",
     "text": [
      "postive recall:  0.8484461524988443\r\n",
      "avg length:  2.891158374524192\r\n",
      "null nums:  9989\r\n"
     ]
    },
    {
     "data": {
      "image/png": "[encoded data removed]",
      "text/plain": [
       "<Figure size 640x480 with 1 Axes>"
      ]
     },
     "metadata": {},
     "output_type": "display_data"
    }
   ],
   "source": [
    "import json \n",
    "file = open(\"../Qwen-relevance-label_add_generation_prompt.jsonl\", \"r\", encoding=\"utf-8\")\n",
    "gt_label = {}\n",
    "for line in file:\n",
    "    js = json.loads(line)\n",
    "    gt_label[js[\"query_id\"]] = js[\"passages_ids\"]\n",
    "    \n",
    "file_r = open(\"../Qwen-utility-selection-add_generation_prompt-final.jsonl\", \"r\", encoding=\"utf-8\")\n",
    "recall = []\n",
    "nums = []\n",
    "for line in file_r:\n",
    "    js = json.loads(line)\n",
    "    utility_ids = []\n",
    "    flag = 0\n",
    "    for index, score in enumerate(js[\"utility_score\"]):\n",
    "        if score == 1 and js[\"passages_ids\"][index] == gt_label[js[\"query_id\"]][0]:\n",
    "            flag = 1\n",
    "    recall.append(flag)\n",
    "    \n",
    "    nums.append(sum(js[\"utility_score\"]))\n",
    "    \n",
    "\n",
    "print(\"postive recall: \", sum(recall)/len(recall))\n",
    "print(\"avg length: \", sum(nums)/len(nums))\n",
    "print(\"null nums: \", nums.count(0))\n",
    "import matplotlib.pyplot as plt\n",
    "\n",
    "plt.hist(nums, bins=max(nums)+1,  edgecolor='black')\n",
    "\n",
    "plt.title(\"Number Distribution\")\n",
    "plt.xlabel(\"Number\")\n",
    "plt.ylabel(\"Frequency\")\n",
    "plt.savefig(\"img/utility_number_distribution.pdf\")\n",
    "plt.show()"
   ]
  },
  {
   "cell_type": "markdown",
   "id": "d25e06f9-304e-45da-9c73-3ce942a4c11b",
   "metadata": {},
   "source": [
    "# relevance selection合并的代码"
   ]
  },
  {
   "cell_type": "code",
   "execution_count": null,
   "id": "a23e44bd-7a49-45ed-8404-6ff2ac9cd756",
   "metadata": {
    "scrolled": true
   },
   "outputs": [],
   "source": [
    "import json\n",
    "relevance_score_set = {}\n",
    "passages_ids_set = {}\n",
    "with open(\"Qwen-relevance-selection-first-final.jsonl\", \"r\", encoding=\"utf-8\") as file_r:\n",
    "    for line in file_r:\n",
    "        js = json.loads(line)\n",
    "        query_id = js[\"query_id\"]\n",
    "        relevance_score = js[\"relevance_score\"]\n",
    "        relevance_score_set[query_id] = relevance_score\n",
    "        passages_ids = js[\"passages_ids\"]\n",
    "        passages_ids_set[query_id] = passages_ids\n",
    "with open(\"Qwen-relevance-label.jsonl\", \"w\", encoding=\"utf-8\") as file_w:\n",
    "    with open(\"Qwen-relevance-selection-last-final.jsonl\", \"r\", encoding=\"utf-8\") as file_r:\n",
    "        for line in file_r:\n",
    "            js = json.loads(line)\n",
    "            query_id = js[\"query_id\"]\n",
    "            relevance_score_first = relevance_score_set[query_id]\n",
    "            relevance_score_last = js[\"relevance_score\"]\n",
    "            passages_ids_first = passages_ids_set[query_id]\n",
    "            passages_ids_last = js[\"passages_ids\"]\n",
    "            js_new = {\n",
    "                \"query_id\": query_id, \n",
    "                \"passages_ids\": passages_ids_first+passages_ids_last[1:], \n",
    "                \"relevance_score\": relevance_score_first+relevance_score_last[1:]\n",
    "            }\n",
    "            file_w.write(json.dumps(js_new)+\"\\n\")\n"
   ]
  },
  {
   "cell_type": "code",
   "execution_count": 9,
   "id": "88a918c0-6520-4cd7-8fe4-f481cac10fa8",
   "metadata": {
    "execution": {
     "iopub.execute_input": "2025-01-01T02:42:43.444993Z",
     "iopub.status.busy": "2025-01-01T02:42:43.444624Z",
     "iopub.status.idle": "2025-01-01T02:43:13.640358Z",
     "shell.execute_reply": "2025-01-01T02:43:13.639647Z",
     "shell.execute_reply.started": "2025-01-01T02:42:43.444969Z"
    },
    "scrolled": true,
    "tags": []
   },
   "outputs": [],
   "source": [
    "\n",
    "import json\n",
    "import re\n",
    "\n",
    "with open(\"../Qwen-relevance-selection-first-relevance_utility_add_generation_prompt_final.jsonl\", \"w\", encoding=\"utf-8\") as file_w:\n",
    "    with open(\"../Qwen-relevance-selection-first-relevance_utility_add_generation_prompt.jsonl\", \"r\", encoding=\"utf-8\") as file_r:\n",
    "        for line in file_r:\n",
    "            js = json.loads(line)\n",
    "            numbers = re.findall(r'\\[(\\d+)\\]', js[\"relevance_output\"])\n",
    "            numbers = [int(number)-1 for number in numbers]\n",
    "            utility_scores = [0]*len(js[\"passages_ids\"])\n",
    "            for number in numbers:\n",
    "                if number >= len(utility_scores):\n",
    "                    continue\n",
    "                utility_scores[number]=1\n",
    "            js[\"relevance_score\"] = utility_scores\n",
    "            file_w.write(json.dumps(js)+\"\\n\")\n",
    "        file_r.close()\n",
    "\n",
    "\n",
    "with open(\"../Qwen-relevance-selection-last-relevance_utility_add_generation_prompt_final.jsonl\", \"w\", encoding=\"utf-8\") as file_w:\n",
    "    with open(\"../Qwen-relevance-selection-last-relevance_utility_add_generation_prompt.jsonl\", \"r\", encoding=\"utf-8\") as file_r:\n",
    "        for line in file_r:\n",
    "            js = json.loads(line)\n",
    "            numbers = re.findall(r'\\[(\\d+)\\]', js[\"relevance_output\"])\n",
    "            numbers = [int(number)-1 for number in numbers]\n",
    "            utility_scores = [0]*len(js[\"passages_ids\"])\n",
    "            for number in numbers:\n",
    "                if number >= len(utility_scores):\n",
    "                    continue\n",
    "                utility_scores[number]=1\n",
    "            js[\"relevance_score\"] = utility_scores\n",
    "            file_w.write(json.dumps(js)+\"\\n\")\n",
    "        file_r.close()\n",
    "        \n",
    "relevance_score_set = {}\n",
    "passages_ids_set = {}\n",
    "with open(\"../Qwen-relevance-selection-first-relevance_utility_add_generation_prompt_final.jsonl\", \"r\", encoding=\"utf-8\") as file_r:\n",
    "    for line in file_r:\n",
    "        js = json.loads(line)\n",
    "        query_id = js[\"query_id\"]\n",
    "        relevance_score = js[\"relevance_score\"]\n",
    "        relevance_score_set[query_id] = relevance_score\n",
    "        passages_ids = js[\"passages_ids\"]\n",
    "        passages_ids_set[query_id] = passages_ids\n",
    "with open(\"../Qwen-relevance-label_relevance_utility.jsonl\", \"w\", encoding=\"utf-8\") as file_w:\n",
    "    with open(\"../Qwen-relevance-selection-last-relevance_utility_add_generation_prompt_final.jsonl\", \"r\", encoding=\"utf-8\") as file_r:\n",
    "        for line in file_r:\n",
    "            js = json.loads(line)\n",
    "            query_id = js[\"query_id\"]\n",
    "            relevance_score_first = relevance_score_set[query_id]\n",
    "            relevance_score_last = js[\"relevance_score\"]\n",
    "            passages_ids_first = passages_ids_set[query_id]\n",
    "            passages_ids_last = js[\"passages_ids\"]\n",
    "            js_new = {\n",
    "                \"query_id\": query_id, \n",
    "                \"passages_ids\": passages_ids_first+passages_ids_last[1:], \n",
    "                \"relevance_score\": relevance_score_first+relevance_score_last[1:]\n",
    "            }\n",
    "            file_w.write(json.dumps(js_new)+\"\\n\")\n"
   ]
  },
  {
   "cell_type": "markdown",
   "id": "9c0cfda1-6e41-4a52-b266-0092f7fd9bb5",
   "metadata": {},
   "source": [
    "# 处理ranking的代码"
   ]
  },
  {
   "cell_type": "code",
   "execution_count": null,
   "id": "211fd521-0484-4948-91bb-b83a08eb51ef",
   "metadata": {
    "scrolled": true
   },
   "outputs": [],
   "source": [
    "import json\n",
    "import re\n",
    "def extract_substrings(input_string):\n",
    "        pattern = re.compile(r'\\[\\d+\\]')\n",
    "        substrings = pattern.findall(input_string)\n",
    "        extracted_string = ''.join(substrings)\n",
    "        return extracted_string\n",
    "\n",
    "def clean_response(response: str):\n",
    "    response = extract_substrings(response)\n",
    "    new_response = ''\n",
    "    for c in response:\n",
    "        if not c.isdigit():\n",
    "            new_response += ' '\n",
    "        else:\n",
    "            new_response += c\n",
    "    new_response = new_response.strip()\n",
    "    return new_response\n",
    "\n",
    "\n",
    "def remove_duplicate(response):\n",
    "    new_response = []\n",
    "    for c in response:\n",
    "        if c not in new_response:\n",
    "            new_response.append(c)\n",
    "    return new_response\n",
    "with open(\"../Qwen-utility-ranking-add_generation_prompt_final.jsonl\", \"w\", encoding=\"utf-8\") as file_w:\n",
    "    with open(\"../Qwen-utility-ranking-add_generation_prompt.jsonl\", \"r\", encoding=\"utf-8\") as file2:\n",
    "        for line in file2:\n",
    "            js = json.loads(line)\n",
    "            relevace_ranking = js[\"utility_ranking\"]\n",
    "            response = clean_response(relevace_ranking)\n",
    "            response = [int(x) - 1 for x in response.split()]\n",
    "            response = remove_duplicate(response)\n",
    "            response = [i for i in response if i >= 0 and i < len(js[\"passages_ids\"])]\n",
    "            js[\"ranking_score\"] = response\n",
    "            ranked_passage_ids = []\n",
    "            for i in response:\n",
    "                ranked_passage_ids.append(js[\"passages_ids\"][i])\n",
    "            js[\"ranked_passage_ids\"] = ranked_passage_ids\n",
    "            file_w.write(json.dumps(js)+\"\\n\")\n"
   ]
  }
 ],
 "metadata": {
  "kernelspec": {
   "display_name": "Python 3 (ipykernel)",
   "language": "python",
   "name": "python3"
  },
  "language_info": {
   "codemirror_mode": {
    "name": "ipython",
    "version": 3
   },
   "file_extension": ".py",
   "mimetype": "text/x-python",
   "name": "python",
   "nbconvert_exporter": "python",
   "pygments_lexer": "ipython3",
   "version": "3.7.0"
  }
 },
 "nbformat": 4,
 "nbformat_minor": 5
}
